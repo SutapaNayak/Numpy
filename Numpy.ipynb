{
  "nbformat": 4,
  "nbformat_minor": 0,
  "metadata": {
    "colab": {
      "name": "Numpy.ipynb",
      "provenance": [],
      "collapsed_sections": [],
      "authorship_tag": "ABX9TyOFETHFm/nryk2KEsnwGCLj",
      "include_colab_link": true
    },
    "kernelspec": {
      "name": "python3",
      "display_name": "Python 3"
    },
    "language_info": {
      "name": "python"
    }
  },
  "cells": [
    {
      "cell_type": "markdown",
      "metadata": {
        "id": "view-in-github",
        "colab_type": "text"
      },
      "source": [
        "<a href=\"https://colab.research.google.com/github/SutapaNayak/Numpy/blob/main/Numpy.ipynb\" target=\"_parent\"><img src=\"https://colab.research.google.com/assets/colab-badge.svg\" alt=\"Open In Colab\"/></a>"
      ]
    },
    {
      "cell_type": "markdown",
      "metadata": {
        "id": "nCwYo5Nz93m_"
      },
      "source": [
        "1.Import the numpy package under the name np and Print the numpy version and the configuration"
      ]
    },
    {
      "cell_type": "code",
      "metadata": {
        "colab": {
          "base_uri": "https://localhost:8080/"
        },
        "id": "0fgZZbEd9_Td",
        "outputId": "41160e46-4429-4975-e033-2c6f15e3dbdf"
      },
      "source": [
        "import numpy as np\n",
        "print(np.__version__)\n",
        "print(np.show_config())"
      ],
      "execution_count": 19,
      "outputs": [
        {
          "output_type": "stream",
          "text": [
            "1.19.5\n",
            "blas_mkl_info:\n",
            "  NOT AVAILABLE\n",
            "blis_info:\n",
            "  NOT AVAILABLE\n",
            "openblas_info:\n",
            "    libraries = ['openblas', 'openblas']\n",
            "    library_dirs = ['/usr/local/lib']\n",
            "    language = c\n",
            "    define_macros = [('HAVE_CBLAS', None)]\n",
            "blas_opt_info:\n",
            "    libraries = ['openblas', 'openblas']\n",
            "    library_dirs = ['/usr/local/lib']\n",
            "    language = c\n",
            "    define_macros = [('HAVE_CBLAS', None)]\n",
            "lapack_mkl_info:\n",
            "  NOT AVAILABLE\n",
            "openblas_lapack_info:\n",
            "    libraries = ['openblas', 'openblas']\n",
            "    library_dirs = ['/usr/local/lib']\n",
            "    language = c\n",
            "    define_macros = [('HAVE_CBLAS', None)]\n",
            "lapack_opt_info:\n",
            "    libraries = ['openblas', 'openblas']\n",
            "    library_dirs = ['/usr/local/lib']\n",
            "    language = c\n",
            "    define_macros = [('HAVE_CBLAS', None)]\n",
            "None\n"
          ],
          "name": "stdout"
        }
      ]
    },
    {
      "cell_type": "markdown",
      "metadata": {
        "id": "aNKdFwzU_guV"
      },
      "source": [
        "2.Create a null vector of size 10"
      ]
    },
    {
      "cell_type": "code",
      "metadata": {
        "colab": {
          "base_uri": "https://localhost:8080/"
        },
        "id": "yISZQPYC-Lau",
        "outputId": "6e14a256-c6ff-40b7-f46a-b9fc63e15f90"
      },
      "source": [
        "import numpy as np\n",
        "x = np.zeros(10)\n",
        "print(x)"
      ],
      "execution_count": null,
      "outputs": [
        {
          "output_type": "stream",
          "text": [
            "[0. 0. 0. 0. 0. 0. 0. 0. 0. 0.]\n"
          ],
          "name": "stdout"
        }
      ]
    },
    {
      "cell_type": "markdown",
      "metadata": {
        "id": "wFhEAI7hAYzI"
      },
      "source": [
        "Create Simple 1-D array and check type and check data types in array"
      ]
    },
    {
      "cell_type": "code",
      "metadata": {
        "colab": {
          "base_uri": "https://localhost:8080/"
        },
        "id": "0t0yQjWNAeUV",
        "outputId": "f7cecf5c-9704-4cb4-ee98-fcc58cc53052"
      },
      "source": [
        "import numpy as np\n",
        "arr = np.array([1, 2, 3, 23, 56, 100])\n",
        "print(arr)\n",
        "print(type(arr))\n",
        "print(arr.dtype)"
      ],
      "execution_count": null,
      "outputs": [
        {
          "output_type": "stream",
          "text": [
            "[  1   2   3  23  56 100]\n",
            "<class 'numpy.ndarray'>\n",
            "int64\n"
          ],
          "name": "stdout"
        }
      ]
    },
    {
      "cell_type": "markdown",
      "metadata": {
        "id": "j5RelI_0C-aU"
      },
      "source": [
        "4.How to find number of dimensions, bytes per element and bytes of memory used?"
      ]
    },
    {
      "cell_type": "code",
      "metadata": {
        "colab": {
          "base_uri": "https://localhost:8080/"
        },
        "id": "67YpEm60Hmt2",
        "outputId": "f845ae08-b8ab-4936-f363-6880bc4ffb88"
      },
      "source": [
        "# import library\n",
        "import numpy as np\n",
        "  \n",
        "# create a numpy 1d-array\n",
        "x = np.array([100,20,34])\n",
        "  \n",
        "print(\"Size of the array: \",\n",
        "      x.size)\n",
        "print(\"Shape of the array: \",\n",
        "      x.shape)\n",
        "  \n",
        "print(\"Memory size of one array element in bytes: \",\n",
        "      x.itemsize)\n",
        "  \n",
        "# memory size of numpy array in bytes\n",
        "print(\"Memory size of numpy array in bytes:\",\n",
        "      x.size * x.itemsize)"
      ],
      "execution_count": null,
      "outputs": [
        {
          "output_type": "stream",
          "text": [
            "Size of the array:  3\n",
            "Shape of the array:  (3,)\n",
            "Memory size of one array element in bytes:  8\n",
            "Memory size of numpy array in bytes: 24\n"
          ],
          "name": "stdout"
        }
      ]
    },
    {
      "cell_type": "markdown",
      "metadata": {
        "id": "_ZwhZb_MJPmu"
      },
      "source": [
        "5.Create a null vector of size 10 but the fifth value which is 1"
      ]
    },
    {
      "cell_type": "code",
      "metadata": {
        "colab": {
          "base_uri": "https://localhost:8080/"
        },
        "id": "jlDiCQLsJTEc",
        "outputId": "8a66fb9d-c874-4ba1-c418-856dfad569dc"
      },
      "source": [
        "x=np.zeros(10)\n",
        "x[4]=1\n",
        "print(x)"
      ],
      "execution_count": null,
      "outputs": [
        {
          "output_type": "stream",
          "text": [
            "[0. 0. 0. 0. 1. 0. 0. 0. 0. 0.]\n"
          ],
          "name": "stdout"
        }
      ]
    },
    {
      "cell_type": "markdown",
      "metadata": {
        "id": "pyF6AbtmOUTN"
      },
      "source": [
        "6.Create a vector with values ranging from 10 to 49"
      ]
    },
    {
      "cell_type": "code",
      "metadata": {
        "colab": {
          "base_uri": "https://localhost:8080/"
        },
        "id": "5uJF6YTvOYZG",
        "outputId": "1d3b04b6-a213-44f6-ab8c-51c268166a93"
      },
      "source": [
        "import numpy as np\n",
        "v = np.arange(10,50)\n",
        "print(\"Original vector:\")\n",
        "print(v)"
      ],
      "execution_count": null,
      "outputs": [
        {
          "output_type": "stream",
          "text": [
            "Original vector:\n",
            "[10 11 12 13 14 15 16 17 18 19 20 21 22 23 24 25 26 27 28 29 30 31 32 33\n",
            " 34 35 36 37 38 39 40 41 42 43 44 45 46 47 48 49]\n"
          ],
          "name": "stdout"
        }
      ]
    },
    {
      "cell_type": "markdown",
      "metadata": {
        "id": "MJlsIP9QOyYi"
      },
      "source": [
        "7.Reverse a vector (first element becomes last"
      ]
    },
    {
      "cell_type": "code",
      "metadata": {
        "colab": {
          "base_uri": "https://localhost:8080/"
        },
        "id": "hpIZ_7vtO3RT",
        "outputId": "b24a75d8-66f2-4bdd-e170-3dcb5970a042"
      },
      "source": [
        "import numpy as np\n",
        "import numpy as np\n",
        "x = np.arange(12, 20)\n",
        "print(\"Original array:\")\n",
        "print(x)\n",
        "print(\"Reverse array:\")\n",
        "x = x[::-1]\n",
        "print(x)"
      ],
      "execution_count": null,
      "outputs": [
        {
          "output_type": "stream",
          "text": [
            "Original array:\n",
            "[12 13 14 15 16 17 18 19]\n",
            "Reverse array:\n",
            "[19 18 17 16 15 14 13 12]\n"
          ],
          "name": "stdout"
        }
      ]
    },
    {
      "cell_type": "markdown",
      "metadata": {
        "id": "AbrswWeZPJyY"
      },
      "source": [
        "8.Create a 3x3 matrix with values ranging from 0 to 8"
      ]
    },
    {
      "cell_type": "code",
      "metadata": {
        "colab": {
          "base_uri": "https://localhost:8080/"
        },
        "id": "b4b8QDPQPLkD",
        "outputId": "4d405e9f-22f4-4d1e-bef0-e04786311ea6"
      },
      "source": [
        "import numpy as np\n",
        "x =  np.arange(0, 9).reshape(3,3)\n",
        "print(x)"
      ],
      "execution_count": null,
      "outputs": [
        {
          "output_type": "stream",
          "text": [
            "[[0 1 2]\n",
            " [3 4 5]\n",
            " [6 7 8]]\n"
          ],
          "name": "stdout"
        }
      ]
    },
    {
      "cell_type": "markdown",
      "metadata": {
        "id": "yFD_cZSsQTwj"
      },
      "source": [
        "9.Find indices of non-zero elements from [1,2,0,0,4,0]"
      ]
    },
    {
      "cell_type": "code",
      "metadata": {
        "colab": {
          "base_uri": "https://localhost:8080/"
        },
        "id": "_Z9v8-i6QRuJ",
        "outputId": "becd6b27-5ab3-4981-dc80-943d25b7ccf4"
      },
      "source": [
        "import numpy as np\n",
        "nums = np.array([1,2,0,0,4,0])\n",
        "print(\"Original array:\")\n",
        "print(nums)\n",
        "print(\"Indices of elements equal to zero of the said array:\")\n",
        "result = np.where(nums == 0)[0]\n",
        "print(result)"
      ],
      "execution_count": null,
      "outputs": [
        {
          "output_type": "stream",
          "text": [
            "Original array:\n",
            "[1 2 0 0 4 0]\n",
            "Indices of elements equal to zero of the said array:\n",
            "[2 3 5]\n"
          ],
          "name": "stdout"
        }
      ]
    },
    {
      "cell_type": "markdown",
      "metadata": {
        "id": "BSiClKIAZbBL"
      },
      "source": [
        "10.Create a 3x3 identity matrix"
      ]
    },
    {
      "cell_type": "code",
      "metadata": {
        "colab": {
          "base_uri": "https://localhost:8080/"
        },
        "id": "BQnxwOovZc_K",
        "outputId": "f1acde79-6bdb-46cd-f8ff-f9977d7aac85"
      },
      "source": [
        "import numpy as np\n",
        "array_2D=np.identity(3)\n",
        "print('3x3 matrix:')\n",
        "print(array_2D)"
      ],
      "execution_count": 20,
      "outputs": [
        {
          "output_type": "stream",
          "text": [
            "3x3 matrix:\n",
            "[[1. 0. 0.]\n",
            " [0. 1. 0.]\n",
            " [0. 0. 1.]]\n"
          ],
          "name": "stdout"
        }
      ]
    },
    {
      "cell_type": "markdown",
      "metadata": {
        "id": "xXpNMMZHZlR5"
      },
      "source": [
        "11.Create a 3x3x3 array with random values"
      ]
    },
    {
      "cell_type": "code",
      "metadata": {
        "colab": {
          "base_uri": "https://localhost:8080/"
        },
        "id": "bz4t3NmyZuLQ",
        "outputId": "af522ee2-70c6-4392-89a9-b03de3543f38"
      },
      "source": [
        "import numpy as np\n",
        "x = np.random.random((3,3,3))\n",
        "print(x)"
      ],
      "execution_count": 21,
      "outputs": [
        {
          "output_type": "stream",
          "text": [
            "[[[0.86928504 0.48900892 0.9311796 ]\n",
            "  [0.95288289 0.76678469 0.39772253]\n",
            "  [0.76321184 0.34971927 0.77607088]]\n",
            "\n",
            " [[0.34134523 0.23316875 0.76000861]\n",
            "  [0.71676385 0.77418714 0.97572441]\n",
            "  [0.27429224 0.73051385 0.8980694 ]]\n",
            "\n",
            " [[0.9199361  0.86148344 0.19814055]\n",
            "  [0.99852819 0.9527384  0.9607163 ]\n",
            "  [0.88509012 0.2384328  0.35396559]]]\n"
          ],
          "name": "stdout"
        }
      ]
    },
    {
      "cell_type": "markdown",
      "metadata": {
        "id": "8NH4ksMOZvrb"
      },
      "source": [
        "12.Create a 10x10 array with random values and find the minimum and maximum values"
      ]
    },
    {
      "cell_type": "code",
      "metadata": {
        "colab": {
          "base_uri": "https://localhost:8080/"
        },
        "id": "IuV4jTHsZ4-7",
        "outputId": "618e5051-ce61-4f83-e9fa-bb59db729427"
      },
      "source": [
        "import numpy as np\n",
        "x = np.random.random((10,10))\n",
        "print(\"Original Array:\")\n",
        "print(x) \n",
        "xmin, xmax = x.min(), x.max()\n",
        "print(\"Minimum and Maximum Values:\")\n",
        "print(xmin, xmax)"
      ],
      "execution_count": 22,
      "outputs": [
        {
          "output_type": "stream",
          "text": [
            "Original Array:\n",
            "[[0.45708679 0.36186276 0.1697594  0.24479522 0.49578377 0.72067417\n",
            "  0.601967   0.23075587 0.61095725 0.90419353]\n",
            " [0.43303182 0.12040051 0.20810193 0.65018001 0.63312718 0.34217281\n",
            "  0.03965752 0.96896525 0.18384045 0.8707922 ]\n",
            " [0.71153371 0.90821204 0.91729729 0.04072124 0.37641605 0.21204802\n",
            "  0.32894297 0.67183839 0.65299032 0.64024543]\n",
            " [0.63368296 0.09655229 0.90492155 0.69895647 0.90825353 0.21390527\n",
            "  0.24567759 0.78707044 0.85126761 0.04423569]\n",
            " [0.37720748 0.70006403 0.91375079 0.43095086 0.20722016 0.92636308\n",
            "  0.34231357 0.6658719  0.99822086 0.62489769]\n",
            " [0.46309133 0.01452556 0.21071569 0.15268862 0.75874922 0.88658497\n",
            "  0.04929418 0.04536037 0.79388795 0.52444539]\n",
            " [0.1645653  0.5534483  0.30872299 0.72440696 0.64582384 0.74773426\n",
            "  0.10573626 0.30228777 0.15175545 0.91986525]\n",
            " [0.00217928 0.6378404  0.34626747 0.96596227 0.30161576 0.1079503\n",
            "  0.69435623 0.05515552 0.89388737 0.36663451]\n",
            " [0.16316249 0.49525094 0.50525047 0.37478597 0.6527193  0.67646437\n",
            "  0.89931061 0.90645792 0.57279212 0.23830522]\n",
            " [0.78441037 0.82965284 0.78041647 0.93979489 0.27424309 0.84059782\n",
            "  0.56727711 0.48615847 0.20143561 0.10907342]]\n",
            "Minimum and Maximum Values:\n",
            "0.00217927744329649 0.9982208635808846\n"
          ],
          "name": "stdout"
        }
      ]
    },
    {
      "cell_type": "markdown",
      "metadata": {
        "id": "4VnNxWGaaAkL"
      },
      "source": [
        "13.Create a random vector of size 30 and find the mean value"
      ]
    },
    {
      "cell_type": "code",
      "metadata": {
        "colab": {
          "base_uri": "https://localhost:8080/"
        },
        "id": "pW4pfKgPaCLD",
        "outputId": "27454a48-3ff6-4df3-aa19-d7ef46219942"
      },
      "source": [
        "import numpy as np\n",
        "x = np.random.random(30)\n",
        "print(\"Original array:\")\n",
        "print(x)\n",
        "x_mean=x.mean()\n",
        "print(\"Mean of the array:\" , x_mean)\n"
      ],
      "execution_count": 27,
      "outputs": [
        {
          "output_type": "stream",
          "text": [
            "Original array:\n",
            "[0.15766055 0.05006016 0.04913624 0.47495839 0.41708295 0.71830232\n",
            " 0.64756591 0.33083382 0.93656166 0.51548281 0.23192925 0.57381883\n",
            " 0.37809495 0.54986871 0.58825606 0.46798068 0.53237157 0.54487498\n",
            " 0.70713282 0.28335634 0.06697301 0.03432997 0.63536462 0.49018241\n",
            " 0.53785523 0.55925418 0.41579708 0.68976446 0.9359179  0.69634604]\n",
            "Mean of the array: 0.4739037965993799\n"
          ],
          "name": "stdout"
        }
      ]
    },
    {
      "cell_type": "markdown",
      "metadata": {
        "id": "LgUTFwi_awJ7"
      },
      "source": [
        "14.Create a 2d array with 1 on the border and 0 inside"
      ]
    },
    {
      "cell_type": "code",
      "metadata": {
        "colab": {
          "base_uri": "https://localhost:8080/"
        },
        "id": "prqIaJPsaymN",
        "outputId": "3daace5d-5ea1-4f4c-e74a-ee58dc3a0b99"
      },
      "source": [
        "import numpy as np\n",
        "x = np.ones((5,6))\n",
        "print(\"1 on the border and 0 inside in the array\")\n",
        "x[1:-1,1:-1] = 0\n",
        "print(x)"
      ],
      "execution_count": 28,
      "outputs": [
        {
          "output_type": "stream",
          "text": [
            "1 on the border and 0 inside in the array\n",
            "[[1. 1. 1. 1. 1. 1.]\n",
            " [1. 0. 0. 0. 0. 1.]\n",
            " [1. 0. 0. 0. 0. 1.]\n",
            " [1. 0. 0. 0. 0. 1.]\n",
            " [1. 1. 1. 1. 1. 1.]]\n"
          ],
          "name": "stdout"
        }
      ]
    },
    {
      "cell_type": "markdown",
      "metadata": {
        "id": "wU2wEgUcbG8U"
      },
      "source": [
        "15.How to add a border (filled with 0's) around an existing array"
      ]
    },
    {
      "cell_type": "code",
      "metadata": {
        "colab": {
          "base_uri": "https://localhost:8080/"
        },
        "id": "nVyYvhdybI8C",
        "outputId": "4e7f9e05-9c57-4251-f652-2116894fa534"
      },
      "source": [
        "import numpy as np\n",
        "x = np.ones((4,4))\n",
        "print(\"Original array:\")\n",
        "print(x)\n",
        "print(\"0 on the border and 1 inside in the array\")\n",
        "x = np.pad(x, pad_width=1, mode='constant', constant_values=0)\n",
        "print(x)"
      ],
      "execution_count": 30,
      "outputs": [
        {
          "output_type": "stream",
          "text": [
            "Original array:\n",
            "[[1. 1. 1. 1.]\n",
            " [1. 1. 1. 1.]\n",
            " [1. 1. 1. 1.]\n",
            " [1. 1. 1. 1.]]\n",
            "0 on the border and 1 inside in the array\n",
            "[[0. 0. 0. 0. 0. 0.]\n",
            " [0. 1. 1. 1. 1. 0.]\n",
            " [0. 1. 1. 1. 1. 0.]\n",
            " [0. 1. 1. 1. 1. 0.]\n",
            " [0. 1. 1. 1. 1. 0.]\n",
            " [0. 0. 0. 0. 0. 0.]]\n"
          ],
          "name": "stdout"
        }
      ]
    },
    {
      "cell_type": "code",
      "metadata": {
        "id": "qeUnM3Njap02"
      },
      "source": [
        "16.How to Accessing/Changing specific elements, rows, columns, etc in Numpy array?\n",
        "\n",
        "Example -\n",
        "[[ 1 2 3 4 5 6 7] [ 8 9 10 11 12 13 14]]\n",
        "\n",
        "Get 13, \n",
        "get first row only, \n",
        "get 3rd column only, \n",
        "get [2, 4, 6], \n",
        "replace 13 by 20"
      ],
      "execution_count": null,
      "outputs": []
    },
    {
      "cell_type": "code",
      "metadata": {
        "colab": {
          "base_uri": "https://localhost:8080/"
        },
        "id": "7xbvsYI9dMpd",
        "outputId": "e24d6b96-0c6a-4b76-8fda-ef698c01393b"
      },
      "source": [
        "import numpy as np\n",
        "A= np.array([[1,2,3,4,5,6,7],[8,9,10,11,12,13,14]])\n",
        "print(A)\n",
        "print(\"Geting 13:\",A[1,5])\n",
        "print(\"getting first row only: \",A[0,:])\n",
        "print('getting 3rd column only:',A[:,2])\n",
        "print(\"getting [2, 4, 6]:\",A[0,:][1:6:2])\n",
        "A[1,5]=20\n",
        "print(\"replace 13 by 20:\",A)"
      ],
      "execution_count": 45,
      "outputs": [
        {
          "output_type": "stream",
          "text": [
            "[[ 1  2  3  4  5  6  7]\n",
            " [ 8  9 10 11 12 13 14]]\n",
            "Geting 13: 13\n",
            "getting first row only:  [1 2 3 4 5 6 7]\n",
            "getting 3rd column only: [ 3 10]\n",
            "getting [2, 4, 6]: [2 4 6]\n",
            "replace 13 by 20: [[ 1  2  3  4  5  6  7]\n",
            " [ 8  9 10 11 12 20 14]]\n"
          ],
          "name": "stdout"
        }
      ]
    },
    {
      "cell_type": "markdown",
      "metadata": {
        "id": "8WORRSbcfxyx"
      },
      "source": [
        "17.How to Convert a 1D array to a 2D array with 2 rows"
      ]
    },
    {
      "cell_type": "code",
      "metadata": {
        "colab": {
          "base_uri": "https://localhost:8080/"
        },
        "id": "-h3xq5V_fw3k",
        "outputId": "9a5eb49d-fc5c-47e6-a41e-97d21240f764"
      },
      "source": [
        "\n",
        "import numpy as np\n",
        "arr = np.array([1, 2, 3, 4, 5, 6, 7, 8])\n",
        "print ('Before reshaping:')\n",
        "print (arr)\n",
        "arr1 = arr.reshape(4, 2)\n",
        "print ('After reshaping having dimension 4x2:')\n",
        "print (arr1)\n",
        "\n",
        "  "
      ],
      "execution_count": 46,
      "outputs": [
        {
          "output_type": "stream",
          "text": [
            "Before reshaping:\n",
            "[1 2 3 4 5 6 7 8]\n",
            "After reshaping having dimension 4x2:\n",
            "[[1 2]\n",
            " [3 4]\n",
            " [5 6]\n",
            " [7 8]]\n"
          ],
          "name": "stdout"
        }
      ]
    },
    {
      "cell_type": "markdown",
      "metadata": {
        "id": "ynuPc0XqgCgD"
      },
      "source": [
        "18.Create the following pattern without hardcoding. Use only numpy functions and the below input array a.\n",
        "\n",
        "Input:\n",
        "\n",
        "a = np.array([1,2,3])`\n",
        "Desired Output:\n",
        "\n",
        "array([1, 1, 1, 2, 2, 2, 3, 3, 3, 1, 2, 3, 1, 2, 3, 1, 2, 3])"
      ]
    },
    {
      "cell_type": "code",
      "metadata": {
        "colab": {
          "base_uri": "https://localhost:8080/"
        },
        "id": "xz-5YVVFgIEM",
        "outputId": "25e0b154-1e29-4912-b8d6-a45ffaadd0ed"
      },
      "source": [
        "import numpy as np\n",
        "arr=np.array([1,2,3])\n",
        "print(np.r_[np.repeat(arr, 3), np.tile(arr, 3)])"
      ],
      "execution_count": 48,
      "outputs": [
        {
          "output_type": "stream",
          "text": [
            "[1 1 1 2 2 2 3 3 3 1 2 3 1 2 3 1 2 3]\n"
          ],
          "name": "stdout"
        }
      ]
    },
    {
      "cell_type": "markdown",
      "metadata": {
        "id": "omwJ_nMbg5uS"
      },
      "source": [
        "19.Write a program to show how Numpy taking less memory compared to Python List?"
      ]
    },
    {
      "cell_type": "code",
      "metadata": {
        "colab": {
          "base_uri": "https://localhost:8080/"
        },
        "id": "_NsLQC9-gkaK",
        "outputId": "42162faa-acba-49fb-a8c9-8e369c57a59c"
      },
      "source": [
        "import numpy as np\n",
        "import sys\n",
        "l= range(1000)\n",
        "print(\"Size of a element in list: \",sys.getsizeof(l))\n",
        "print(\"Size of list: \",sys.getsizeof(l)*len(l))\n",
        "a1= np.arange(1000)\n",
        "print(\"Size of a elemet in array: \",a1.itemsize)\n",
        "print(\"Size of array declared by numpy: \",a1.size*a1.itemsize)\n",
        "\n"
      ],
      "execution_count": 50,
      "outputs": [
        {
          "output_type": "stream",
          "text": [
            "Size of a element in list:  48\n",
            "Size of list:  48000\n",
            "Size of a elemet in array:  8\n",
            "Size of array declared by numpy:  8000\n"
          ],
          "name": "stdout"
        }
      ]
    },
    {
      "cell_type": "markdown",
      "metadata": {
        "id": "C0jomuj4hsm6"
      },
      "source": [
        "20.Write a program to show how Numpy taking less time compared to Python List?"
      ]
    },
    {
      "cell_type": "code",
      "metadata": {
        "colab": {
          "base_uri": "https://localhost:8080/"
        },
        "id": "tNEkCsjVhs0L",
        "outputId": "f0ce153d-e1c4-41e6-b070-04e37e201b54"
      },
      "source": [
        "import numpy\n",
        "import time\n",
        "size = 1000000\n",
        "l1 = range(size)\n",
        "l2 = range(size)\n",
        "n1 = numpy.arange(size)\n",
        "n2 = numpy.arange(size)\n",
        "start = time.time()\n",
        "result = [(x+y) for x, y in zip(l1, l2)]\n",
        "t1=((time.time() - start)*1000)\n",
        "print(\"Time taken by Lists to perform additon:\",t1)\n",
        "start = time.time()\n",
        "result1 = n1 + n2\n",
        "t2=(time.time() - start)\n",
        "print(\"Time taken by NumPy Arrays to perform addition:\",t2)\n",
        "if t1>t2:\n",
        "   print(\"Time taken by python list is greater than numpy\")\n",
        "else:\n",
        "   print(\"Time taken by python list is less than numpy\")\n"
      ],
      "execution_count": 63,
      "outputs": [
        {
          "output_type": "stream",
          "text": [
            "Time taken by Lists to perform additon: 123.48079681396484\n",
            "Time taken by NumPy Arrays to perform addition: 0.0022652149200439453\n",
            "Time taken by python list is greater than numpy\n"
          ],
          "name": "stdout"
        }
      ]
    }
  ]
}